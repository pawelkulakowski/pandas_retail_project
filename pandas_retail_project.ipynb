{
 "cells": [
  {
   "cell_type": "code",
   "execution_count": 76,
   "id": "fafb10ff",
   "metadata": {},
   "outputs": [],
   "source": [
    "import pandas as pd\n",
    "import numpy as np\n",
    "import matplotlib.pyplot as plt\n",
    "import seaborn as sns\n",
    "\n",
    "sns.set(style=\"ticks\")\n",
    "plt.style.use(\"fivethirtyeight\")"
   ]
  },
  {
   "cell_type": "code",
   "execution_count": 30,
   "id": "7cba5d84",
   "metadata": {},
   "outputs": [],
   "source": [
    "brands = pd.read_csv(\"brands.csv\") \n",
    "finance = pd.read_csv(\"finance.csv\")\n",
    "info = pd.read_csv(\"info.csv\")\n",
    "reviews = pd.read_csv(\"reviews.csv\")"
   ]
  },
  {
   "cell_type": "code",
   "execution_count": 31,
   "id": "64a90554",
   "metadata": {},
   "outputs": [
    {
     "data": {
      "text/html": [
       "<div>\n",
       "<style scoped>\n",
       "    .dataframe tbody tr th:only-of-type {\n",
       "        vertical-align: middle;\n",
       "    }\n",
       "\n",
       "    .dataframe tbody tr th {\n",
       "        vertical-align: top;\n",
       "    }\n",
       "\n",
       "    .dataframe thead th {\n",
       "        text-align: right;\n",
       "    }\n",
       "</style>\n",
       "<table border=\"1\" class=\"dataframe\">\n",
       "  <thead>\n",
       "    <tr style=\"text-align: right;\">\n",
       "      <th></th>\n",
       "      <th>product_id</th>\n",
       "      <th>brand</th>\n",
       "    </tr>\n",
       "  </thead>\n",
       "  <tbody>\n",
       "    <tr>\n",
       "      <th>0</th>\n",
       "      <td>AH2430</td>\n",
       "      <td>NaN</td>\n",
       "    </tr>\n",
       "    <tr>\n",
       "      <th>1</th>\n",
       "      <td>G27341</td>\n",
       "      <td>Adidas</td>\n",
       "    </tr>\n",
       "    <tr>\n",
       "      <th>2</th>\n",
       "      <td>CM0081</td>\n",
       "      <td>Adidas</td>\n",
       "    </tr>\n",
       "    <tr>\n",
       "      <th>3</th>\n",
       "      <td>B44832</td>\n",
       "      <td>Adidas</td>\n",
       "    </tr>\n",
       "    <tr>\n",
       "      <th>4</th>\n",
       "      <td>D98205</td>\n",
       "      <td>Adidas</td>\n",
       "    </tr>\n",
       "  </tbody>\n",
       "</table>\n",
       "</div>"
      ],
      "text/plain": [
       "  product_id   brand\n",
       "0     AH2430     NaN\n",
       "1     G27341  Adidas\n",
       "2     CM0081  Adidas\n",
       "3     B44832  Adidas\n",
       "4     D98205  Adidas"
      ]
     },
     "execution_count": 31,
     "metadata": {},
     "output_type": "execute_result"
    }
   ],
   "source": [
    "brands.head()"
   ]
  },
  {
   "cell_type": "code",
   "execution_count": 32,
   "id": "73db9059",
   "metadata": {},
   "outputs": [
    {
     "data": {
      "text/html": [
       "<div>\n",
       "<style scoped>\n",
       "    .dataframe tbody tr th:only-of-type {\n",
       "        vertical-align: middle;\n",
       "    }\n",
       "\n",
       "    .dataframe tbody tr th {\n",
       "        vertical-align: top;\n",
       "    }\n",
       "\n",
       "    .dataframe thead th {\n",
       "        text-align: right;\n",
       "    }\n",
       "</style>\n",
       "<table border=\"1\" class=\"dataframe\">\n",
       "  <thead>\n",
       "    <tr style=\"text-align: right;\">\n",
       "      <th></th>\n",
       "      <th>product_id</th>\n",
       "      <th>listing_price</th>\n",
       "      <th>sale_price</th>\n",
       "      <th>discount</th>\n",
       "      <th>revenue</th>\n",
       "    </tr>\n",
       "  </thead>\n",
       "  <tbody>\n",
       "    <tr>\n",
       "      <th>0</th>\n",
       "      <td>AH2430</td>\n",
       "      <td>NaN</td>\n",
       "      <td>NaN</td>\n",
       "      <td>NaN</td>\n",
       "      <td>NaN</td>\n",
       "    </tr>\n",
       "    <tr>\n",
       "      <th>1</th>\n",
       "      <td>G27341</td>\n",
       "      <td>75.99</td>\n",
       "      <td>37.99</td>\n",
       "      <td>0.5</td>\n",
       "      <td>1641.17</td>\n",
       "    </tr>\n",
       "    <tr>\n",
       "      <th>2</th>\n",
       "      <td>CM0081</td>\n",
       "      <td>9.99</td>\n",
       "      <td>5.99</td>\n",
       "      <td>0.4</td>\n",
       "      <td>398.93</td>\n",
       "    </tr>\n",
       "    <tr>\n",
       "      <th>3</th>\n",
       "      <td>B44832</td>\n",
       "      <td>69.99</td>\n",
       "      <td>34.99</td>\n",
       "      <td>0.5</td>\n",
       "      <td>2204.37</td>\n",
       "    </tr>\n",
       "    <tr>\n",
       "      <th>4</th>\n",
       "      <td>D98205</td>\n",
       "      <td>79.99</td>\n",
       "      <td>39.99</td>\n",
       "      <td>0.5</td>\n",
       "      <td>5182.70</td>\n",
       "    </tr>\n",
       "  </tbody>\n",
       "</table>\n",
       "</div>"
      ],
      "text/plain": [
       "  product_id  listing_price  sale_price  discount  revenue\n",
       "0     AH2430            NaN         NaN       NaN      NaN\n",
       "1     G27341          75.99       37.99       0.5  1641.17\n",
       "2     CM0081           9.99        5.99       0.4   398.93\n",
       "3     B44832          69.99       34.99       0.5  2204.37\n",
       "4     D98205          79.99       39.99       0.5  5182.70"
      ]
     },
     "execution_count": 32,
     "metadata": {},
     "output_type": "execute_result"
    }
   ],
   "source": [
    "finance.head()"
   ]
  },
  {
   "cell_type": "code",
   "execution_count": 33,
   "id": "64cdd492",
   "metadata": {},
   "outputs": [
    {
     "name": "stdout",
     "output_type": "stream",
     "text": [
      "<class 'pandas.core.frame.DataFrame'>\n",
      "RangeIndex: 3179 entries, 0 to 3178\n",
      "Data columns (total 5 columns):\n",
      " #   Column         Non-Null Count  Dtype  \n",
      "---  ------         --------------  -----  \n",
      " 0   product_id     3179 non-null   object \n",
      " 1   listing_price  3120 non-null   float64\n",
      " 2   sale_price     3120 non-null   float64\n",
      " 3   discount       3120 non-null   float64\n",
      " 4   revenue        3120 non-null   float64\n",
      "dtypes: float64(4), object(1)\n",
      "memory usage: 124.3+ KB\n"
     ]
    }
   ],
   "source": [
    "finance.info()"
   ]
  },
  {
   "cell_type": "code",
   "execution_count": 34,
   "id": "c70a2259",
   "metadata": {},
   "outputs": [
    {
     "data": {
      "text/html": [
       "<div>\n",
       "<style scoped>\n",
       "    .dataframe tbody tr th:only-of-type {\n",
       "        vertical-align: middle;\n",
       "    }\n",
       "\n",
       "    .dataframe tbody tr th {\n",
       "        vertical-align: top;\n",
       "    }\n",
       "\n",
       "    .dataframe thead th {\n",
       "        text-align: right;\n",
       "    }\n",
       "</style>\n",
       "<table border=\"1\" class=\"dataframe\">\n",
       "  <thead>\n",
       "    <tr style=\"text-align: right;\">\n",
       "      <th></th>\n",
       "      <th>product_name</th>\n",
       "      <th>product_id</th>\n",
       "      <th>description</th>\n",
       "    </tr>\n",
       "  </thead>\n",
       "  <tbody>\n",
       "    <tr>\n",
       "      <th>0</th>\n",
       "      <td>NaN</td>\n",
       "      <td>AH2430</td>\n",
       "      <td>NaN</td>\n",
       "    </tr>\n",
       "    <tr>\n",
       "      <th>1</th>\n",
       "      <td>Women's adidas Originals Sleek Shoes</td>\n",
       "      <td>G27341</td>\n",
       "      <td>A modern take on adidas sport heritage, tailor...</td>\n",
       "    </tr>\n",
       "    <tr>\n",
       "      <th>2</th>\n",
       "      <td>Women's adidas Swim Puka Slippers</td>\n",
       "      <td>CM0081</td>\n",
       "      <td>These adidas Puka slippers for women's come wi...</td>\n",
       "    </tr>\n",
       "    <tr>\n",
       "      <th>3</th>\n",
       "      <td>Women's adidas Sport Inspired Questar Ride Shoes</td>\n",
       "      <td>B44832</td>\n",
       "      <td>Inspired by modern tech runners, these women's...</td>\n",
       "    </tr>\n",
       "    <tr>\n",
       "      <th>4</th>\n",
       "      <td>Women's adidas Originals Taekwondo Shoes</td>\n",
       "      <td>D98205</td>\n",
       "      <td>This design is inspired by vintage Taekwondo s...</td>\n",
       "    </tr>\n",
       "  </tbody>\n",
       "</table>\n",
       "</div>"
      ],
      "text/plain": [
       "                                       product_name product_id  \\\n",
       "0                                               NaN     AH2430   \n",
       "1              Women's adidas Originals Sleek Shoes     G27341   \n",
       "2                 Women's adidas Swim Puka Slippers     CM0081   \n",
       "3  Women's adidas Sport Inspired Questar Ride Shoes     B44832   \n",
       "4          Women's adidas Originals Taekwondo Shoes     D98205   \n",
       "\n",
       "                                         description  \n",
       "0                                                NaN  \n",
       "1  A modern take on adidas sport heritage, tailor...  \n",
       "2  These adidas Puka slippers for women's come wi...  \n",
       "3  Inspired by modern tech runners, these women's...  \n",
       "4  This design is inspired by vintage Taekwondo s...  "
      ]
     },
     "execution_count": 34,
     "metadata": {},
     "output_type": "execute_result"
    }
   ],
   "source": [
    "info.head()"
   ]
  },
  {
   "cell_type": "code",
   "execution_count": 35,
   "id": "cfccec68",
   "metadata": {},
   "outputs": [
    {
     "data": {
      "text/html": [
       "<div>\n",
       "<style scoped>\n",
       "    .dataframe tbody tr th:only-of-type {\n",
       "        vertical-align: middle;\n",
       "    }\n",
       "\n",
       "    .dataframe tbody tr th {\n",
       "        vertical-align: top;\n",
       "    }\n",
       "\n",
       "    .dataframe thead th {\n",
       "        text-align: right;\n",
       "    }\n",
       "</style>\n",
       "<table border=\"1\" class=\"dataframe\">\n",
       "  <thead>\n",
       "    <tr style=\"text-align: right;\">\n",
       "      <th></th>\n",
       "      <th>product_id</th>\n",
       "      <th>rating</th>\n",
       "      <th>reviews</th>\n",
       "    </tr>\n",
       "  </thead>\n",
       "  <tbody>\n",
       "    <tr>\n",
       "      <th>0</th>\n",
       "      <td>AH2430</td>\n",
       "      <td>NaN</td>\n",
       "      <td>NaN</td>\n",
       "    </tr>\n",
       "    <tr>\n",
       "      <th>1</th>\n",
       "      <td>G27341</td>\n",
       "      <td>3.3</td>\n",
       "      <td>24.0</td>\n",
       "    </tr>\n",
       "    <tr>\n",
       "      <th>2</th>\n",
       "      <td>CM0081</td>\n",
       "      <td>2.6</td>\n",
       "      <td>37.0</td>\n",
       "    </tr>\n",
       "    <tr>\n",
       "      <th>3</th>\n",
       "      <td>B44832</td>\n",
       "      <td>4.1</td>\n",
       "      <td>35.0</td>\n",
       "    </tr>\n",
       "    <tr>\n",
       "      <th>4</th>\n",
       "      <td>D98205</td>\n",
       "      <td>3.5</td>\n",
       "      <td>72.0</td>\n",
       "    </tr>\n",
       "  </tbody>\n",
       "</table>\n",
       "</div>"
      ],
      "text/plain": [
       "  product_id  rating  reviews\n",
       "0     AH2430     NaN      NaN\n",
       "1     G27341     3.3     24.0\n",
       "2     CM0081     2.6     37.0\n",
       "3     B44832     4.1     35.0\n",
       "4     D98205     3.5     72.0"
      ]
     },
     "execution_count": 35,
     "metadata": {},
     "output_type": "execute_result"
    }
   ],
   "source": [
    "reviews.head()"
   ]
  },
  {
   "cell_type": "code",
   "execution_count": 36,
   "id": "8687a950",
   "metadata": {},
   "outputs": [],
   "source": [
    "df = pd.merge(left=finance, right=info, on='product_id', how='left')\n",
    "df = pd.merge(left=df, right=reviews, on='product_id', how='left')\n",
    "df = pd.merge(left=df, right=brands, on='product_id', how='left')"
   ]
  },
  {
   "cell_type": "code",
   "execution_count": 37,
   "id": "a1640296",
   "metadata": {},
   "outputs": [
    {
     "name": "stdout",
     "output_type": "stream",
     "text": [
      "<class 'pandas.core.frame.DataFrame'>\n",
      "RangeIndex: 3179 entries, 0 to 3178\n",
      "Data columns (total 10 columns):\n",
      " #   Column         Non-Null Count  Dtype  \n",
      "---  ------         --------------  -----  \n",
      " 0   product_id     3179 non-null   object \n",
      " 1   listing_price  3120 non-null   float64\n",
      " 2   sale_price     3120 non-null   float64\n",
      " 3   discount       3120 non-null   float64\n",
      " 4   revenue        3120 non-null   float64\n",
      " 5   product_name   3120 non-null   object \n",
      " 6   description    3117 non-null   object \n",
      " 7   rating         3120 non-null   float64\n",
      " 8   reviews        3120 non-null   float64\n",
      " 9   brand          3120 non-null   object \n",
      "dtypes: float64(6), object(4)\n",
      "memory usage: 248.5+ KB\n"
     ]
    }
   ],
   "source": [
    "df.info()"
   ]
  },
  {
   "cell_type": "code",
   "execution_count": 38,
   "id": "555c4cf2",
   "metadata": {},
   "outputs": [],
   "source": [
    "df = df.dropna()"
   ]
  },
  {
   "cell_type": "code",
   "execution_count": 39,
   "id": "e8a71760",
   "metadata": {},
   "outputs": [
    {
     "name": "stdout",
     "output_type": "stream",
     "text": [
      "<class 'pandas.core.frame.DataFrame'>\n",
      "Index: 3117 entries, 1 to 3178\n",
      "Data columns (total 10 columns):\n",
      " #   Column         Non-Null Count  Dtype  \n",
      "---  ------         --------------  -----  \n",
      " 0   product_id     3117 non-null   object \n",
      " 1   listing_price  3117 non-null   float64\n",
      " 2   sale_price     3117 non-null   float64\n",
      " 3   discount       3117 non-null   float64\n",
      " 4   revenue        3117 non-null   float64\n",
      " 5   product_name   3117 non-null   object \n",
      " 6   description    3117 non-null   object \n",
      " 7   rating         3117 non-null   float64\n",
      " 8   reviews        3117 non-null   float64\n",
      " 9   brand          3117 non-null   object \n",
      "dtypes: float64(6), object(4)\n",
      "memory usage: 267.9+ KB\n"
     ]
    }
   ],
   "source": [
    "df.info()"
   ]
  },
  {
   "cell_type": "markdown",
   "id": "5112a611",
   "metadata": {},
   "source": [
    "## What is the volume of products and mean revenue for Adidas and Nike products based on listing price quartiles?"
   ]
  },
  {
   "cell_type": "markdown",
   "id": "3d0bc534",
   "metadata": {},
   "source": [
    "### Label products priced up to quartile one as \"Budget\", quartile two as \"Average\", quartile three as \"Expensive\", and quartile four as \"Elite\""
   ]
  },
  {
   "cell_type": "code",
   "execution_count": 40,
   "id": "26cdafdc",
   "metadata": {},
   "outputs": [],
   "source": [
    "labels = ['Budget', 'Average', 'Expensive', 'Elite']"
   ]
  },
  {
   "cell_type": "code",
   "execution_count": 41,
   "id": "136cf24b",
   "metadata": {},
   "outputs": [],
   "source": [
    "df['price_label'] = pd.qcut(df['listing_price'], 4, labels)"
   ]
  },
  {
   "cell_type": "code",
   "execution_count": 42,
   "id": "30f6b535",
   "metadata": {},
   "outputs": [
    {
     "data": {
      "text/html": [
       "<div>\n",
       "<style scoped>\n",
       "    .dataframe tbody tr th:only-of-type {\n",
       "        vertical-align: middle;\n",
       "    }\n",
       "\n",
       "    .dataframe tbody tr th {\n",
       "        vertical-align: top;\n",
       "    }\n",
       "\n",
       "    .dataframe thead th {\n",
       "        text-align: right;\n",
       "    }\n",
       "</style>\n",
       "<table border=\"1\" class=\"dataframe\">\n",
       "  <thead>\n",
       "    <tr style=\"text-align: right;\">\n",
       "      <th></th>\n",
       "      <th>product_id</th>\n",
       "      <th>listing_price</th>\n",
       "      <th>sale_price</th>\n",
       "      <th>discount</th>\n",
       "      <th>revenue</th>\n",
       "      <th>product_name</th>\n",
       "      <th>description</th>\n",
       "      <th>rating</th>\n",
       "      <th>reviews</th>\n",
       "      <th>brand</th>\n",
       "      <th>price_label</th>\n",
       "    </tr>\n",
       "  </thead>\n",
       "  <tbody>\n",
       "    <tr>\n",
       "      <th>1</th>\n",
       "      <td>G27341</td>\n",
       "      <td>75.99</td>\n",
       "      <td>37.99</td>\n",
       "      <td>0.5</td>\n",
       "      <td>1641.17</td>\n",
       "      <td>Women's adidas Originals Sleek Shoes</td>\n",
       "      <td>A modern take on adidas sport heritage, tailor...</td>\n",
       "      <td>3.3</td>\n",
       "      <td>24.0</td>\n",
       "      <td>Adidas</td>\n",
       "      <td>Expensive</td>\n",
       "    </tr>\n",
       "    <tr>\n",
       "      <th>2</th>\n",
       "      <td>CM0081</td>\n",
       "      <td>9.99</td>\n",
       "      <td>5.99</td>\n",
       "      <td>0.4</td>\n",
       "      <td>398.93</td>\n",
       "      <td>Women's adidas Swim Puka Slippers</td>\n",
       "      <td>These adidas Puka slippers for women's come wi...</td>\n",
       "      <td>2.6</td>\n",
       "      <td>37.0</td>\n",
       "      <td>Adidas</td>\n",
       "      <td>Budget</td>\n",
       "    </tr>\n",
       "    <tr>\n",
       "      <th>3</th>\n",
       "      <td>B44832</td>\n",
       "      <td>69.99</td>\n",
       "      <td>34.99</td>\n",
       "      <td>0.5</td>\n",
       "      <td>2204.37</td>\n",
       "      <td>Women's adidas Sport Inspired Questar Ride Shoes</td>\n",
       "      <td>Inspired by modern tech runners, these women's...</td>\n",
       "      <td>4.1</td>\n",
       "      <td>35.0</td>\n",
       "      <td>Adidas</td>\n",
       "      <td>Expensive</td>\n",
       "    </tr>\n",
       "    <tr>\n",
       "      <th>4</th>\n",
       "      <td>D98205</td>\n",
       "      <td>79.99</td>\n",
       "      <td>39.99</td>\n",
       "      <td>0.5</td>\n",
       "      <td>5182.70</td>\n",
       "      <td>Women's adidas Originals Taekwondo Shoes</td>\n",
       "      <td>This design is inspired by vintage Taekwondo s...</td>\n",
       "      <td>3.5</td>\n",
       "      <td>72.0</td>\n",
       "      <td>Adidas</td>\n",
       "      <td>Expensive</td>\n",
       "    </tr>\n",
       "    <tr>\n",
       "      <th>5</th>\n",
       "      <td>B75586</td>\n",
       "      <td>47.99</td>\n",
       "      <td>19.20</td>\n",
       "      <td>0.6</td>\n",
       "      <td>1555.20</td>\n",
       "      <td>Women's adidas Sport Inspired Duramo Lite 2.0 ...</td>\n",
       "      <td>Refine your interval training in these women's...</td>\n",
       "      <td>1.0</td>\n",
       "      <td>45.0</td>\n",
       "      <td>Adidas</td>\n",
       "      <td>Average</td>\n",
       "    </tr>\n",
       "  </tbody>\n",
       "</table>\n",
       "</div>"
      ],
      "text/plain": [
       "  product_id  listing_price  sale_price  discount  revenue  \\\n",
       "1     G27341          75.99       37.99       0.5  1641.17   \n",
       "2     CM0081           9.99        5.99       0.4   398.93   \n",
       "3     B44832          69.99       34.99       0.5  2204.37   \n",
       "4     D98205          79.99       39.99       0.5  5182.70   \n",
       "5     B75586          47.99       19.20       0.6  1555.20   \n",
       "\n",
       "                                        product_name  \\\n",
       "1               Women's adidas Originals Sleek Shoes   \n",
       "2                  Women's adidas Swim Puka Slippers   \n",
       "3   Women's adidas Sport Inspired Questar Ride Shoes   \n",
       "4           Women's adidas Originals Taekwondo Shoes   \n",
       "5  Women's adidas Sport Inspired Duramo Lite 2.0 ...   \n",
       "\n",
       "                                         description  rating  reviews   brand  \\\n",
       "1  A modern take on adidas sport heritage, tailor...     3.3     24.0  Adidas   \n",
       "2  These adidas Puka slippers for women's come wi...     2.6     37.0  Adidas   \n",
       "3  Inspired by modern tech runners, these women's...     4.1     35.0  Adidas   \n",
       "4  This design is inspired by vintage Taekwondo s...     3.5     72.0  Adidas   \n",
       "5  Refine your interval training in these women's...     1.0     45.0  Adidas   \n",
       "\n",
       "  price_label  \n",
       "1   Expensive  \n",
       "2      Budget  \n",
       "3   Expensive  \n",
       "4   Expensive  \n",
       "5     Average  "
      ]
     },
     "execution_count": 42,
     "metadata": {},
     "output_type": "execute_result"
    }
   ],
   "source": [
    "df.head()"
   ]
  },
  {
   "cell_type": "markdown",
   "id": "2662ad8c",
   "metadata": {},
   "source": [
    "### Store as a pandas DataFrame called adidas_vs_nike containing the following columns: \"brand\", \"price_label\", \"num_products\", and \"mean_revenue\". All numeric values should be rounded to two decimal places."
   ]
  },
  {
   "cell_type": "code",
   "execution_count": 47,
   "id": "95a8e054",
   "metadata": {},
   "outputs": [
    {
     "data": {
      "text/html": [
       "<div>\n",
       "<style scoped>\n",
       "    .dataframe tbody tr th:only-of-type {\n",
       "        vertical-align: middle;\n",
       "    }\n",
       "\n",
       "    .dataframe tbody tr th {\n",
       "        vertical-align: top;\n",
       "    }\n",
       "\n",
       "    .dataframe thead th {\n",
       "        text-align: right;\n",
       "    }\n",
       "</style>\n",
       "<table border=\"1\" class=\"dataframe\">\n",
       "  <thead>\n",
       "    <tr style=\"text-align: right;\">\n",
       "      <th></th>\n",
       "      <th>brand</th>\n",
       "      <th>price_label</th>\n",
       "      <th>num_products</th>\n",
       "      <th>mean_revenue</th>\n",
       "    </tr>\n",
       "  </thead>\n",
       "  <tbody>\n",
       "    <tr>\n",
       "      <th>0</th>\n",
       "      <td>Adidas</td>\n",
       "      <td>Budget</td>\n",
       "      <td>574</td>\n",
       "      <td>2015.68</td>\n",
       "    </tr>\n",
       "    <tr>\n",
       "      <th>1</th>\n",
       "      <td>Adidas</td>\n",
       "      <td>Average</td>\n",
       "      <td>655</td>\n",
       "      <td>3035.30</td>\n",
       "    </tr>\n",
       "    <tr>\n",
       "      <th>2</th>\n",
       "      <td>Adidas</td>\n",
       "      <td>Expensive</td>\n",
       "      <td>759</td>\n",
       "      <td>4621.56</td>\n",
       "    </tr>\n",
       "    <tr>\n",
       "      <th>3</th>\n",
       "      <td>Adidas</td>\n",
       "      <td>Elite</td>\n",
       "      <td>587</td>\n",
       "      <td>8302.78</td>\n",
       "    </tr>\n",
       "    <tr>\n",
       "      <th>4</th>\n",
       "      <td>Nike</td>\n",
       "      <td>Budget</td>\n",
       "      <td>357</td>\n",
       "      <td>1596.33</td>\n",
       "    </tr>\n",
       "    <tr>\n",
       "      <th>5</th>\n",
       "      <td>Nike</td>\n",
       "      <td>Average</td>\n",
       "      <td>8</td>\n",
       "      <td>675.59</td>\n",
       "    </tr>\n",
       "    <tr>\n",
       "      <th>6</th>\n",
       "      <td>Nike</td>\n",
       "      <td>Expensive</td>\n",
       "      <td>47</td>\n",
       "      <td>500.56</td>\n",
       "    </tr>\n",
       "    <tr>\n",
       "      <th>7</th>\n",
       "      <td>Nike</td>\n",
       "      <td>Elite</td>\n",
       "      <td>130</td>\n",
       "      <td>1367.45</td>\n",
       "    </tr>\n",
       "  </tbody>\n",
       "</table>\n",
       "</div>"
      ],
      "text/plain": [
       "    brand price_label  num_products  mean_revenue\n",
       "0  Adidas      Budget           574       2015.68\n",
       "1  Adidas     Average           655       3035.30\n",
       "2  Adidas   Expensive           759       4621.56\n",
       "3  Adidas       Elite           587       8302.78\n",
       "4    Nike      Budget           357       1596.33\n",
       "5    Nike     Average             8        675.59\n",
       "6    Nike   Expensive            47        500.56\n",
       "7    Nike       Elite           130       1367.45"
      ]
     },
     "execution_count": 47,
     "metadata": {},
     "output_type": "execute_result"
    }
   ],
   "source": [
    "adidas_vs_nike = df.groupby(['brand', 'price_label'], as_index=False).agg({'product_id':'count', 'revenue':'mean'}).round(2)\n",
    "adidas_vs_nike = adidas_vs_nike.rename(columns={'product_id':'num_products', 'revenue':'mean_revenue'})\n",
    "adidas_vs_nike"
   ]
  },
  {
   "cell_type": "code",
   "execution_count": 55,
   "id": "dd4de769",
   "metadata": {},
   "outputs": [
    {
     "data": {
      "text/plain": [
       "<matplotlib.legend.Legend at 0x2239c825d10>"
      ]
     },
     "execution_count": 55,
     "metadata": {},
     "output_type": "execute_result"
    },
    {
     "data": {
      "image/png": "[encoded data removed]",
      "text/plain": [
       "<Figure size 640x480 with 1 Axes>"
      ]
     },
     "metadata": {},
     "output_type": "display_data"
    }
   ],
   "source": [
    "sns.barplot(data=adidas_vs_nike, x='brand', y='mean_revenue', hue='price_label')\n",
    "plt.title('Average revenue by Price Category between Adidas and Nike')\n",
    "plt.xlabel('Brand')\n",
    "plt.ylabel('Average revenue')\n",
    "plt.legend(title='Price Label')"
   ]
  },
  {
   "cell_type": "code",
   "execution_count": 56,
   "id": "071d4af9",
   "metadata": {},
   "outputs": [
    {
     "data": {
      "text/plain": [
       "<matplotlib.legend.Legend at 0x2239c8c1b90>"
      ]
     },
     "execution_count": 56,
     "metadata": {},
     "output_type": "execute_result"
    },
    {
     "data": {
      "image/png": "[encoded data removed]",
      "text/plain": [
       "<Figure size 640x480 with 1 Axes>"
      ]
     },
     "metadata": {},
     "output_type": "display_data"
    }
   ],
   "source": [
    "sns.barplot(data=adidas_vs_nike, x='brand', y='num_products', hue='price_label')\n",
    "plt.title('Number of Products by Price Category between Adidas and Nike')\n",
    "plt.xlabel('Brand')\n",
    "plt.ylabel('Number of Products')\n",
    "plt.legend(title='Price Label')"
   ]
  },
  {
   "cell_type": "markdown",
   "id": "cf6dd9f0",
   "metadata": {},
   "source": [
    "## Do any differences exist between the word count of a product's description and its mean rating?"
   ]
  },
  {
   "cell_type": "markdown",
   "id": "1b560150",
   "metadata": {},
   "source": [
    "### Split product description length into bins of 100 characters and calculate the average rating and number of reviews.\n",
    "### Store the results as a pandas DataFrame called description_lengths containing the following columns: \"description_length\", \"mean_rating\", \"num_reviews\", again rounding numeric values to two decimal places."
   ]
  },
  {
   "cell_type": "code",
   "execution_count": 57,
   "id": "3362c089",
   "metadata": {},
   "outputs": [
    {
     "data": {
      "text/plain": [
       "1       175\n",
       "2       172\n",
       "3       264\n",
       "4       288\n",
       "5       221\n",
       "       ... \n",
       "3174    146\n",
       "3175    378\n",
       "3176    204\n",
       "3177    240\n",
       "3178    202\n",
       "Name: description, Length: 3117, dtype: int64"
      ]
     },
     "execution_count": 57,
     "metadata": {},
     "output_type": "execute_result"
    }
   ],
   "source": [
    "df['description'].str.len()"
   ]
  },
  {
   "cell_type": "code",
   "execution_count": 58,
   "id": "f102d7e1",
   "metadata": {},
   "outputs": [
    {
     "data": {
      "text/plain": [
       "687"
      ]
     },
     "execution_count": 58,
     "metadata": {},
     "output_type": "execute_result"
    }
   ],
   "source": [
    "max(df['description'].str.len())"
   ]
  },
  {
   "cell_type": "code",
   "execution_count": 65,
   "id": "88fda38c",
   "metadata": {},
   "outputs": [],
   "source": [
    "description_bins = [0, 100, 200, 300, 400, 500, 600, 700]\n",
    "description_labels = ['100', '200', '300', '400', '500', '600', '700']"
   ]
  },
  {
   "cell_type": "code",
   "execution_count": 67,
   "id": "34ac2c9e",
   "metadata": {},
   "outputs": [],
   "source": [
    "df['description_length'] = pd.cut(df['description'].str.len(), bins = description_bins, labels= description_labels)"
   ]
  },
  {
   "cell_type": "code",
   "execution_count": 68,
   "id": "e3cf20fe",
   "metadata": {},
   "outputs": [
    {
     "data": {
      "text/html": [
       "<div>\n",
       "<style scoped>\n",
       "    .dataframe tbody tr th:only-of-type {\n",
       "        vertical-align: middle;\n",
       "    }\n",
       "\n",
       "    .dataframe tbody tr th {\n",
       "        vertical-align: top;\n",
       "    }\n",
       "\n",
       "    .dataframe thead th {\n",
       "        text-align: right;\n",
       "    }\n",
       "</style>\n",
       "<table border=\"1\" class=\"dataframe\">\n",
       "  <thead>\n",
       "    <tr style=\"text-align: right;\">\n",
       "      <th></th>\n",
       "      <th>product_id</th>\n",
       "      <th>listing_price</th>\n",
       "      <th>sale_price</th>\n",
       "      <th>discount</th>\n",
       "      <th>revenue</th>\n",
       "      <th>product_name</th>\n",
       "      <th>description</th>\n",
       "      <th>rating</th>\n",
       "      <th>reviews</th>\n",
       "      <th>brand</th>\n",
       "      <th>price_label</th>\n",
       "      <th>description_length</th>\n",
       "    </tr>\n",
       "  </thead>\n",
       "  <tbody>\n",
       "    <tr>\n",
       "      <th>1</th>\n",
       "      <td>G27341</td>\n",
       "      <td>75.99</td>\n",
       "      <td>37.99</td>\n",
       "      <td>0.5</td>\n",
       "      <td>1641.17</td>\n",
       "      <td>Women's adidas Originals Sleek Shoes</td>\n",
       "      <td>A modern take on adidas sport heritage, tailor...</td>\n",
       "      <td>3.3</td>\n",
       "      <td>24.0</td>\n",
       "      <td>Adidas</td>\n",
       "      <td>Expensive</td>\n",
       "      <td>200</td>\n",
       "    </tr>\n",
       "    <tr>\n",
       "      <th>2</th>\n",
       "      <td>CM0081</td>\n",
       "      <td>9.99</td>\n",
       "      <td>5.99</td>\n",
       "      <td>0.4</td>\n",
       "      <td>398.93</td>\n",
       "      <td>Women's adidas Swim Puka Slippers</td>\n",
       "      <td>These adidas Puka slippers for women's come wi...</td>\n",
       "      <td>2.6</td>\n",
       "      <td>37.0</td>\n",
       "      <td>Adidas</td>\n",
       "      <td>Budget</td>\n",
       "      <td>200</td>\n",
       "    </tr>\n",
       "    <tr>\n",
       "      <th>3</th>\n",
       "      <td>B44832</td>\n",
       "      <td>69.99</td>\n",
       "      <td>34.99</td>\n",
       "      <td>0.5</td>\n",
       "      <td>2204.37</td>\n",
       "      <td>Women's adidas Sport Inspired Questar Ride Shoes</td>\n",
       "      <td>Inspired by modern tech runners, these women's...</td>\n",
       "      <td>4.1</td>\n",
       "      <td>35.0</td>\n",
       "      <td>Adidas</td>\n",
       "      <td>Expensive</td>\n",
       "      <td>300</td>\n",
       "    </tr>\n",
       "    <tr>\n",
       "      <th>4</th>\n",
       "      <td>D98205</td>\n",
       "      <td>79.99</td>\n",
       "      <td>39.99</td>\n",
       "      <td>0.5</td>\n",
       "      <td>5182.70</td>\n",
       "      <td>Women's adidas Originals Taekwondo Shoes</td>\n",
       "      <td>This design is inspired by vintage Taekwondo s...</td>\n",
       "      <td>3.5</td>\n",
       "      <td>72.0</td>\n",
       "      <td>Adidas</td>\n",
       "      <td>Expensive</td>\n",
       "      <td>300</td>\n",
       "    </tr>\n",
       "    <tr>\n",
       "      <th>5</th>\n",
       "      <td>B75586</td>\n",
       "      <td>47.99</td>\n",
       "      <td>19.20</td>\n",
       "      <td>0.6</td>\n",
       "      <td>1555.20</td>\n",
       "      <td>Women's adidas Sport Inspired Duramo Lite 2.0 ...</td>\n",
       "      <td>Refine your interval training in these women's...</td>\n",
       "      <td>1.0</td>\n",
       "      <td>45.0</td>\n",
       "      <td>Adidas</td>\n",
       "      <td>Average</td>\n",
       "      <td>300</td>\n",
       "    </tr>\n",
       "  </tbody>\n",
       "</table>\n",
       "</div>"
      ],
      "text/plain": [
       "  product_id  listing_price  sale_price  discount  revenue  \\\n",
       "1     G27341          75.99       37.99       0.5  1641.17   \n",
       "2     CM0081           9.99        5.99       0.4   398.93   \n",
       "3     B44832          69.99       34.99       0.5  2204.37   \n",
       "4     D98205          79.99       39.99       0.5  5182.70   \n",
       "5     B75586          47.99       19.20       0.6  1555.20   \n",
       "\n",
       "                                        product_name  \\\n",
       "1               Women's adidas Originals Sleek Shoes   \n",
       "2                  Women's adidas Swim Puka Slippers   \n",
       "3   Women's adidas Sport Inspired Questar Ride Shoes   \n",
       "4           Women's adidas Originals Taekwondo Shoes   \n",
       "5  Women's adidas Sport Inspired Duramo Lite 2.0 ...   \n",
       "\n",
       "                                         description  rating  reviews   brand  \\\n",
       "1  A modern take on adidas sport heritage, tailor...     3.3     24.0  Adidas   \n",
       "2  These adidas Puka slippers for women's come wi...     2.6     37.0  Adidas   \n",
       "3  Inspired by modern tech runners, these women's...     4.1     35.0  Adidas   \n",
       "4  This design is inspired by vintage Taekwondo s...     3.5     72.0  Adidas   \n",
       "5  Refine your interval training in these women's...     1.0     45.0  Adidas   \n",
       "\n",
       "  price_label description_length  \n",
       "1   Expensive                200  \n",
       "2      Budget                200  \n",
       "3   Expensive                300  \n",
       "4   Expensive                300  \n",
       "5     Average                300  "
      ]
     },
     "execution_count": 68,
     "metadata": {},
     "output_type": "execute_result"
    }
   ],
   "source": [
    "df.head()"
   ]
  },
  {
   "cell_type": "code",
   "execution_count": 73,
   "id": "089d5d28",
   "metadata": {},
   "outputs": [
    {
     "data": {
      "text/html": [
       "<div>\n",
       "<style scoped>\n",
       "    .dataframe tbody tr th:only-of-type {\n",
       "        vertical-align: middle;\n",
       "    }\n",
       "\n",
       "    .dataframe tbody tr th {\n",
       "        vertical-align: top;\n",
       "    }\n",
       "\n",
       "    .dataframe thead th {\n",
       "        text-align: right;\n",
       "    }\n",
       "</style>\n",
       "<table border=\"1\" class=\"dataframe\">\n",
       "  <thead>\n",
       "    <tr style=\"text-align: right;\">\n",
       "      <th></th>\n",
       "      <th>description_length</th>\n",
       "      <th>mean_rating</th>\n",
       "      <th>reviews_count</th>\n",
       "    </tr>\n",
       "  </thead>\n",
       "  <tbody>\n",
       "    <tr>\n",
       "      <th>0</th>\n",
       "      <td>100</td>\n",
       "      <td>2.26</td>\n",
       "      <td>7</td>\n",
       "    </tr>\n",
       "    <tr>\n",
       "      <th>1</th>\n",
       "      <td>200</td>\n",
       "      <td>3.19</td>\n",
       "      <td>526</td>\n",
       "    </tr>\n",
       "    <tr>\n",
       "      <th>2</th>\n",
       "      <td>300</td>\n",
       "      <td>3.28</td>\n",
       "      <td>1785</td>\n",
       "    </tr>\n",
       "    <tr>\n",
       "      <th>3</th>\n",
       "      <td>400</td>\n",
       "      <td>3.29</td>\n",
       "      <td>651</td>\n",
       "    </tr>\n",
       "    <tr>\n",
       "      <th>4</th>\n",
       "      <td>500</td>\n",
       "      <td>3.35</td>\n",
       "      <td>118</td>\n",
       "    </tr>\n",
       "    <tr>\n",
       "      <th>5</th>\n",
       "      <td>600</td>\n",
       "      <td>3.12</td>\n",
       "      <td>15</td>\n",
       "    </tr>\n",
       "    <tr>\n",
       "      <th>6</th>\n",
       "      <td>700</td>\n",
       "      <td>3.65</td>\n",
       "      <td>15</td>\n",
       "    </tr>\n",
       "  </tbody>\n",
       "</table>\n",
       "</div>"
      ],
      "text/plain": [
       "   description_length  mean_rating  reviews_count\n",
       "0                 100         2.26              7\n",
       "1                 200         3.19            526\n",
       "2                 300         3.28           1785\n",
       "3                 400         3.29            651\n",
       "4                 500         3.35            118\n",
       "5                 600         3.12             15\n",
       "6                 700         3.65             15"
      ]
     },
     "execution_count": 73,
     "metadata": {},
     "output_type": "execute_result"
    }
   ],
   "source": [
    "description_lengths = df.groupby('description_length', as_index=False).agg({'rating':'mean', 'reviews':'count'}).round(2)\n",
    "description_lengths = description_lengths.rename(columns={'rating':'mean_rating', 'reviews':'reviews_count'})\n",
    "description_lengths['description_length'] = description_lengths['description_length'].astype('int')\n",
    "description_lengths"
   ]
  },
  {
   "cell_type": "code",
   "execution_count": 84,
   "id": "24392ee7",
   "metadata": {},
   "outputs": [
    {
     "data": {
      "text/plain": [
       "0.73"
      ]
     },
     "execution_count": 84,
     "metadata": {},
     "output_type": "execute_result"
    }
   ],
   "source": [
    "corr_coeff = np.corrcoef(description_lengths['description_length'], description_lengths['mean_rating'])[0][1].round(2)\n",
    "corr_coeff"
   ]
  },
  {
   "cell_type": "code",
   "execution_count": 89,
   "id": "0e9be84c",
   "metadata": {},
   "outputs": [
    {
     "data": {
      "text/plain": [
       "Text(0, 0.5, 'Average Rating')"
      ]
     },
     "execution_count": 89,
     "metadata": {},
     "output_type": "execute_result"
    },
    {
     "data": {
      "image/png": "[encoded data removed]",
      "text/plain": [
       "<Figure size 640x480 with 1 Axes>"
      ]
     },
     "metadata": {},
     "output_type": "display_data"
    }
   ],
   "source": [
    "sns.regplot(data=description_lengths, y='mean_rating', x='description_length')\n",
    "plt.title(f'Scatter Plot with Correlation Line (Correlation Coefficient: {corr_coeff})')\n",
    "plt.xlabel('Description Length')\n",
    "plt.ylabel('Average Rating')"
   ]
  },
  {
   "cell_type": "markdown",
   "id": "76908e39",
   "metadata": {},
   "source": [
    "## How does the volume of products and median revenue vary between clothing and footwear?"
   ]
  },
  {
   "cell_type": "code",
   "execution_count": 92,
   "id": "6d8128af",
   "metadata": {},
   "outputs": [],
   "source": [
    "footwear_keywords ='shoe*|trainer*|foot*'\n",
    "\n",
    "df_footwear = df[df['description'].str.contains(footwear_keywords)]\n",
    "df_clothes = df[~df['description'].str.contains(footwear_keywords)]"
   ]
  },
  {
   "cell_type": "code",
   "execution_count": 94,
   "id": "93b21a49",
   "metadata": {},
   "outputs": [
    {
     "data": {
      "text/plain": [
       "0"
      ]
     },
     "execution_count": 94,
     "metadata": {},
     "output_type": "execute_result"
    }
   ],
   "source": [
    "df_clothes['description'].isnull().sum()"
   ]
  },
  {
   "cell_type": "code",
   "execution_count": 95,
   "id": "112619e6",
   "metadata": {},
   "outputs": [
    {
     "data": {
      "text/html": [
       "<div>\n",
       "<style scoped>\n",
       "    .dataframe tbody tr th:only-of-type {\n",
       "        vertical-align: middle;\n",
       "    }\n",
       "\n",
       "    .dataframe tbody tr th {\n",
       "        vertical-align: top;\n",
       "    }\n",
       "\n",
       "    .dataframe thead th {\n",
       "        text-align: right;\n",
       "    }\n",
       "</style>\n",
       "<table border=\"1\" class=\"dataframe\">\n",
       "  <thead>\n",
       "    <tr style=\"text-align: right;\">\n",
       "      <th></th>\n",
       "      <th>product_id</th>\n",
       "      <th>listing_price</th>\n",
       "      <th>sale_price</th>\n",
       "      <th>discount</th>\n",
       "      <th>revenue</th>\n",
       "      <th>product_name</th>\n",
       "      <th>description</th>\n",
       "      <th>rating</th>\n",
       "      <th>reviews</th>\n",
       "      <th>brand</th>\n",
       "      <th>price_label</th>\n",
       "      <th>description_length</th>\n",
       "    </tr>\n",
       "  </thead>\n",
       "  <tbody>\n",
       "    <tr>\n",
       "      <th>1</th>\n",
       "      <td>G27341</td>\n",
       "      <td>75.99</td>\n",
       "      <td>37.99</td>\n",
       "      <td>0.5</td>\n",
       "      <td>1641.17</td>\n",
       "      <td>Women's adidas Originals Sleek Shoes</td>\n",
       "      <td>A modern take on adidas sport heritage, tailor...</td>\n",
       "      <td>3.3</td>\n",
       "      <td>24.0</td>\n",
       "      <td>Adidas</td>\n",
       "      <td>Expensive</td>\n",
       "      <td>200</td>\n",
       "    </tr>\n",
       "    <tr>\n",
       "      <th>2</th>\n",
       "      <td>CM0081</td>\n",
       "      <td>9.99</td>\n",
       "      <td>5.99</td>\n",
       "      <td>0.4</td>\n",
       "      <td>398.93</td>\n",
       "      <td>Women's adidas Swim Puka Slippers</td>\n",
       "      <td>These adidas Puka slippers for women's come wi...</td>\n",
       "      <td>2.6</td>\n",
       "      <td>37.0</td>\n",
       "      <td>Adidas</td>\n",
       "      <td>Budget</td>\n",
       "      <td>200</td>\n",
       "    </tr>\n",
       "    <tr>\n",
       "      <th>3</th>\n",
       "      <td>B44832</td>\n",
       "      <td>69.99</td>\n",
       "      <td>34.99</td>\n",
       "      <td>0.5</td>\n",
       "      <td>2204.37</td>\n",
       "      <td>Women's adidas Sport Inspired Questar Ride Shoes</td>\n",
       "      <td>Inspired by modern tech runners, these women's...</td>\n",
       "      <td>4.1</td>\n",
       "      <td>35.0</td>\n",
       "      <td>Adidas</td>\n",
       "      <td>Expensive</td>\n",
       "      <td>300</td>\n",
       "    </tr>\n",
       "    <tr>\n",
       "      <th>4</th>\n",
       "      <td>D98205</td>\n",
       "      <td>79.99</td>\n",
       "      <td>39.99</td>\n",
       "      <td>0.5</td>\n",
       "      <td>5182.70</td>\n",
       "      <td>Women's adidas Originals Taekwondo Shoes</td>\n",
       "      <td>This design is inspired by vintage Taekwondo s...</td>\n",
       "      <td>3.5</td>\n",
       "      <td>72.0</td>\n",
       "      <td>Adidas</td>\n",
       "      <td>Expensive</td>\n",
       "      <td>300</td>\n",
       "    </tr>\n",
       "    <tr>\n",
       "      <th>5</th>\n",
       "      <td>B75586</td>\n",
       "      <td>47.99</td>\n",
       "      <td>19.20</td>\n",
       "      <td>0.6</td>\n",
       "      <td>1555.20</td>\n",
       "      <td>Women's adidas Sport Inspired Duramo Lite 2.0 ...</td>\n",
       "      <td>Refine your interval training in these women's...</td>\n",
       "      <td>1.0</td>\n",
       "      <td>45.0</td>\n",
       "      <td>Adidas</td>\n",
       "      <td>Average</td>\n",
       "      <td>300</td>\n",
       "    </tr>\n",
       "  </tbody>\n",
       "</table>\n",
       "</div>"
      ],
      "text/plain": [
       "  product_id  listing_price  sale_price  discount  revenue  \\\n",
       "1     G27341          75.99       37.99       0.5  1641.17   \n",
       "2     CM0081           9.99        5.99       0.4   398.93   \n",
       "3     B44832          69.99       34.99       0.5  2204.37   \n",
       "4     D98205          79.99       39.99       0.5  5182.70   \n",
       "5     B75586          47.99       19.20       0.6  1555.20   \n",
       "\n",
       "                                        product_name  \\\n",
       "1               Women's adidas Originals Sleek Shoes   \n",
       "2                  Women's adidas Swim Puka Slippers   \n",
       "3   Women's adidas Sport Inspired Questar Ride Shoes   \n",
       "4           Women's adidas Originals Taekwondo Shoes   \n",
       "5  Women's adidas Sport Inspired Duramo Lite 2.0 ...   \n",
       "\n",
       "                                         description  rating  reviews   brand  \\\n",
       "1  A modern take on adidas sport heritage, tailor...     3.3     24.0  Adidas   \n",
       "2  These adidas Puka slippers for women's come wi...     2.6     37.0  Adidas   \n",
       "3  Inspired by modern tech runners, these women's...     4.1     35.0  Adidas   \n",
       "4  This design is inspired by vintage Taekwondo s...     3.5     72.0  Adidas   \n",
       "5  Refine your interval training in these women's...     1.0     45.0  Adidas   \n",
       "\n",
       "  price_label description_length  \n",
       "1   Expensive                200  \n",
       "2      Budget                200  \n",
       "3   Expensive                300  \n",
       "4   Expensive                300  \n",
       "5     Average                300  "
      ]
     },
     "execution_count": 95,
     "metadata": {},
     "output_type": "execute_result"
    }
   ],
   "source": [
    "df_footwear.head()"
   ]
  },
  {
   "cell_type": "code",
   "execution_count": 115,
   "id": "90c5abb0",
   "metadata": {},
   "outputs": [
    {
     "data": {
      "text/html": [
       "<div>\n",
       "<style scoped>\n",
       "    .dataframe tbody tr th:only-of-type {\n",
       "        vertical-align: middle;\n",
       "    }\n",
       "\n",
       "    .dataframe tbody tr th {\n",
       "        vertical-align: top;\n",
       "    }\n",
       "\n",
       "    .dataframe thead th {\n",
       "        text-align: right;\n",
       "    }\n",
       "</style>\n",
       "<table border=\"1\" class=\"dataframe\">\n",
       "  <thead>\n",
       "    <tr style=\"text-align: right;\">\n",
       "      <th></th>\n",
       "      <th>category</th>\n",
       "      <th>num_products</th>\n",
       "      <th>median_revenue</th>\n",
       "    </tr>\n",
       "  </thead>\n",
       "  <tbody>\n",
       "    <tr>\n",
       "      <th>0</th>\n",
       "      <td>footwear</td>\n",
       "      <td>2639</td>\n",
       "      <td>3073.30</td>\n",
       "    </tr>\n",
       "    <tr>\n",
       "      <th>1</th>\n",
       "      <td>clothes</td>\n",
       "      <td>478</td>\n",
       "      <td>625.07</td>\n",
       "    </tr>\n",
       "  </tbody>\n",
       "</table>\n",
       "</div>"
      ],
      "text/plain": [
       "   category  num_products  median_revenue\n",
       "0  footwear          2639         3073.30\n",
       "1   clothes           478          625.07"
      ]
     },
     "execution_count": 115,
     "metadata": {},
     "output_type": "execute_result"
    }
   ],
   "source": [
    "df_foot_clothes = pd.concat([pd.DataFrame(data={\n",
    "    'volume': [df_footwear['product_id'].count()],\n",
    "    'median': [df_footwear['revenue'].median()]}, index=['footwear']),\n",
    "          pd.DataFrame(data={\n",
    "    'volume': [df_clothes['product_id'].count()],\n",
    "    'median': [df_clothes['revenue'].median()]}, index=['clothes'])], axis=0).reset_index().rename(columns={'index':'category', 'volume':'num_products', 'median':'median_revenue'})\n",
    "df_foot_clothes"
   ]
  },
  {
   "cell_type": "code",
   "execution_count": 116,
   "id": "c4a635f2",
   "metadata": {},
   "outputs": [
    {
     "data": {
      "text/plain": [
       "Text(0, 0.5, 'Median Revenue')"
      ]
     },
     "execution_count": 116,
     "metadata": {},
     "output_type": "execute_result"
    },
    {
     "data": {
      "image/png": "[encoded data removed]",
      "text/plain": [
       "<Figure size 1000x400 with 2 Axes>"
      ]
     },
     "metadata": {},
     "output_type": "display_data"
    }
   ],
   "source": [
    "fig, axes = plt.subplots(nrows=1, ncols=2, figsize=(10, 4))\n",
    "\n",
    "sns.barplot(x='category', y='num_products', data=df_foot_clothes, ax=axes[0])\n",
    "axes[0].set_title('Total Number of Different Products Sold')\n",
    "axes[0].set_ylabel('Number of Products')\n",
    "                   \n",
    "sns.barplot(x='category', y='median_revenue', data=df_foot_clothes, ax=axes[1])\n",
    "axes[1].set_title('Total Median Revenue Generated')\n",
    "axes[1].set_ylabel('Median Revenue')                   "
   ]
  },
  {
   "cell_type": "code",
   "execution_count": null,
   "id": "f2887685",
   "metadata": {},
   "outputs": [],
   "source": []
  }
 ],
 "metadata": {
  "kernelspec": {
   "display_name": "Python 3 (ipykernel)",
   "language": "python",
   "name": "python3"
  },
  "language_info": {
   "codemirror_mode": {
    "name": "ipython",
    "version": 3
   },
   "file_extension": ".py",
   "mimetype": "text/x-python",
   "name": "python",
   "nbconvert_exporter": "python",
   "pygments_lexer": "ipython3",
   "version": "3.11.5"
  }
 },
 "nbformat": 4,
 "nbformat_minor": 5
}
